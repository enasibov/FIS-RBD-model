{
 "cells": [
  {
   "cell_type": "code",
   "execution_count": 1,
   "id": "941f3f2e-db0a-40fd-a3e2-1dd16ef1a339",
   "metadata": {},
   "outputs": [
    {
     "name": "stdout",
     "output_type": "stream",
     "text": [
      "(20640, 3)\n",
      "X_train_norm 18576\n"
     ]
    }
   ],
   "source": [
    "import warnings\n",
    "warnings.filterwarnings(\"ignore\")\n",
    "\n",
    "import pandas as pd\n",
    "housing = pd.read_csv('Data/housing.csv', usecols = ['longitude', 'latitude', 'median_house_value'],sep=',')\n",
    "housing.head()\n",
    "print(housing.shape)\n",
    "from sklearn.model_selection import train_test_split\n",
    "X_train, X_test, y_train, y_test = train_test_split(housing[['longitude','latitude','median_house_value']], housing[['median_house_value']], test_size=0.1, random_state=0)\n",
    "\n",
    "from sklearn import preprocessing\n",
    "X_train_norm = preprocessing.normalize(X_train, axis=0)\n",
    "X_test_norm = preprocessing.normalize(X_test, axis=0)\n",
    "\n",
    "print('X_train_norm',len(X_train_norm))\n",
    "\n",
    "from sklearn.cluster import KMeans\n",
    "kmeans1 = KMeans(n_clusters = 3, random_state = 0, n_init=3)\n",
    "kmeans1.fit(X_train[['latitude']])\n",
    "labels1=kmeans1.predict(X_train[['latitude']])\n",
    "\n",
    "kmeans2 = KMeans(n_clusters = 3, random_state = 0, n_init=3)\n",
    "kmeans2.fit(X_train[['longitude']])\n",
    "labels2=kmeans2.predict(X_train[['longitude']])\n",
    "\n",
    "dflabels1=pd.DataFrame(labels1, columns=['class1'])\n",
    "dflabels2=pd.DataFrame(labels2, columns=['class2'])"
   ]
  },
  {
   "cell_type": "code",
   "execution_count": 2,
   "id": "cc77921f-fae6-4b65-aca7-78c2864fd1fa",
   "metadata": {},
   "outputs": [
    {
     "data": {
      "text/plain": [
       "<Axes: ylabel='median_house_value'>"
      ]
     },
     "execution_count": 2,
     "metadata": {},
     "output_type": "execute_result"
    },
    {
     "data": {
      "image/png": "[encoded data removed]",
      "text/plain": [
       "<Figure size 640x480 with 1 Axes>"
      ]
     },
     "metadata": {},
     "output_type": "display_data"
    }
   ],
   "source": [
    "import seaborn as sns\n",
    "sns.boxplot(x = labels1, y = y_train['median_house_value'])"
   ]
  },
  {
   "cell_type": "code",
   "execution_count": 3,
   "id": "de09ea68-9783-419e-81b9-2723dceab189",
   "metadata": {},
   "outputs": [
    {
     "data": {
      "text/html": [
       "<div>\n",
       "<style scoped>\n",
       "    .dataframe tbody tr th:only-of-type {\n",
       "        vertical-align: middle;\n",
       "    }\n",
       "\n",
       "    .dataframe tbody tr th {\n",
       "        vertical-align: top;\n",
       "    }\n",
       "\n",
       "    .dataframe thead th {\n",
       "        text-align: right;\n",
       "    }\n",
       "</style>\n",
       "<table border=\"1\" class=\"dataframe\">\n",
       "  <thead>\n",
       "    <tr style=\"text-align: right;\">\n",
       "      <th></th>\n",
       "      <th>index</th>\n",
       "      <th>longitude</th>\n",
       "      <th>latitude</th>\n",
       "      <th>median_house_value</th>\n",
       "      <th>index</th>\n",
       "      <th>class1</th>\n",
       "      <th>class2</th>\n",
       "    </tr>\n",
       "  </thead>\n",
       "  <tbody>\n",
       "    <tr>\n",
       "      <th>0</th>\n",
       "      <td>2255</td>\n",
       "      <td>-119.83</td>\n",
       "      <td>36.80</td>\n",
       "      <td>80800.0</td>\n",
       "      <td>0</td>\n",
       "      <td>2</td>\n",
       "      <td>2</td>\n",
       "    </tr>\n",
       "    <tr>\n",
       "      <th>1</th>\n",
       "      <td>17341</td>\n",
       "      <td>-120.40</td>\n",
       "      <td>34.86</td>\n",
       "      <td>275000.0</td>\n",
       "      <td>1</td>\n",
       "      <td>1</td>\n",
       "      <td>2</td>\n",
       "    </tr>\n",
       "    <tr>\n",
       "      <th>2</th>\n",
       "      <td>11589</td>\n",
       "      <td>-118.03</td>\n",
       "      <td>33.78</td>\n",
       "      <td>257500.0</td>\n",
       "      <td>2</td>\n",
       "      <td>1</td>\n",
       "      <td>1</td>\n",
       "    </tr>\n",
       "    <tr>\n",
       "      <th>3</th>\n",
       "      <td>13635</td>\n",
       "      <td>-117.32</td>\n",
       "      <td>34.09</td>\n",
       "      <td>75300.0</td>\n",
       "      <td>3</td>\n",
       "      <td>1</td>\n",
       "      <td>1</td>\n",
       "    </tr>\n",
       "    <tr>\n",
       "      <th>4</th>\n",
       "      <td>693</td>\n",
       "      <td>-122.11</td>\n",
       "      <td>37.70</td>\n",
       "      <td>161400.0</td>\n",
       "      <td>4</td>\n",
       "      <td>2</td>\n",
       "      <td>0</td>\n",
       "    </tr>\n",
       "    <tr>\n",
       "      <th>...</th>\n",
       "      <td>...</td>\n",
       "      <td>...</td>\n",
       "      <td>...</td>\n",
       "      <td>...</td>\n",
       "      <td>...</td>\n",
       "      <td>...</td>\n",
       "      <td>...</td>\n",
       "    </tr>\n",
       "    <tr>\n",
       "      <th>18571</th>\n",
       "      <td>13123</td>\n",
       "      <td>-121.26</td>\n",
       "      <td>38.27</td>\n",
       "      <td>144600.0</td>\n",
       "      <td>18571</td>\n",
       "      <td>2</td>\n",
       "      <td>0</td>\n",
       "    </tr>\n",
       "    <tr>\n",
       "      <th>18572</th>\n",
       "      <td>19648</td>\n",
       "      <td>-120.89</td>\n",
       "      <td>37.48</td>\n",
       "      <td>159400.0</td>\n",
       "      <td>18572</td>\n",
       "      <td>2</td>\n",
       "      <td>2</td>\n",
       "    </tr>\n",
       "    <tr>\n",
       "      <th>18573</th>\n",
       "      <td>9845</td>\n",
       "      <td>-121.90</td>\n",
       "      <td>36.58</td>\n",
       "      <td>289300.0</td>\n",
       "      <td>18573</td>\n",
       "      <td>2</td>\n",
       "      <td>0</td>\n",
       "    </tr>\n",
       "    <tr>\n",
       "      <th>18574</th>\n",
       "      <td>10799</td>\n",
       "      <td>-117.93</td>\n",
       "      <td>33.62</td>\n",
       "      <td>484600.0</td>\n",
       "      <td>18574</td>\n",
       "      <td>1</td>\n",
       "      <td>1</td>\n",
       "    </tr>\n",
       "    <tr>\n",
       "      <th>18575</th>\n",
       "      <td>2732</td>\n",
       "      <td>-115.56</td>\n",
       "      <td>32.80</td>\n",
       "      <td>69400.0</td>\n",
       "      <td>18575</td>\n",
       "      <td>1</td>\n",
       "      <td>1</td>\n",
       "    </tr>\n",
       "  </tbody>\n",
       "</table>\n",
       "<p>18576 rows × 7 columns</p>\n",
       "</div>"
      ],
      "text/plain": [
       "       index  longitude  latitude  median_house_value  index  class1  class2\n",
       "0       2255    -119.83     36.80             80800.0      0       2       2\n",
       "1      17341    -120.40     34.86            275000.0      1       1       2\n",
       "2      11589    -118.03     33.78            257500.0      2       1       1\n",
       "3      13635    -117.32     34.09             75300.0      3       1       1\n",
       "4        693    -122.11     37.70            161400.0      4       2       0\n",
       "...      ...        ...       ...                 ...    ...     ...     ...\n",
       "18571  13123    -121.26     38.27            144600.0  18571       2       0\n",
       "18572  19648    -120.89     37.48            159400.0  18572       2       2\n",
       "18573   9845    -121.90     36.58            289300.0  18573       2       0\n",
       "18574  10799    -117.93     33.62            484600.0  18574       1       1\n",
       "18575   2732    -115.56     32.80             69400.0  18575       1       1\n",
       "\n",
       "[18576 rows x 7 columns]"
      ]
     },
     "execution_count": 3,
     "metadata": {},
     "output_type": "execute_result"
    }
   ],
   "source": [
    "#X_train=pd.concat([train_sp, X_train.reset_index(drop=True, inplace=True)], axis=1)\n",
    "df=pd.concat([X_train.reset_index(), dflabels1.reset_index(), dflabels2], axis=1)\n",
    "df\n",
    "#sns.scatterplot(data = df, x = 'class', y='Price')\n",
    "#df[['Price','class']]\n",
    "#sns.boxplot(x = df['class'], y = df['Price'])"
   ]
  },
  {
   "cell_type": "code",
   "execution_count": 4,
   "id": "a76d4f84-a4d2-4508-8a2d-fc015f635731",
   "metadata": {},
   "outputs": [
    {
     "name": "stdout",
     "output_type": "stream",
     "text": [
      "latitude\n",
      "1,  39\n",
      "2,  34\n",
      "3,  37\n",
      "longitude\n",
      "1,  -122\n",
      "2,  -118\n",
      "3,  -120\n"
     ]
    }
   ],
   "source": [
    "k=max(df['class1'])+1\n",
    "print('latitude')\n",
    "for i in range(k):\n",
    "    dfi=df['latitude'][df['class1']==i]\n",
    "    print(f'{i+1},  {dfi.mean():.0f}')\n",
    "print('longitude')\n",
    "for i in range(k):\n",
    "    dfi=df['longitude'][df['class2']==i]\n",
    "    print(f'{i+1},  {dfi.mean():.0f}')"
   ]
  },
  {
   "cell_type": "code",
   "execution_count": 5,
   "id": "b9647aac-7093-4734-8ca4-7a5645c00801",
   "metadata": {},
   "outputs": [
    {
     "name": "stdout",
     "output_type": "stream",
     "text": [
      "Classes ij\n",
      "11,  130653\n",
      "12,  nan\n",
      "13,  125284\n",
      "21,  280183\n",
      "22,  218221\n",
      "23,  203193\n",
      "31,  249861\n",
      "32,  99990\n",
      "33,  90181\n"
     ]
    }
   ],
   "source": [
    "#X_train\n",
    "#df['class']\n",
    "k=max(df['class1'])+1\n",
    "print('Classes ij')\n",
    "for i in range(k):\n",
    "    for j in range(k):\n",
    "        dfij=df['median_house_value'][(df['class1']==i) & (df['class2']==j)]\n",
    "        print(f'{i+1}{j+1},  {dfij.mean():.0f}')"
   ]
  },
  {
   "cell_type": "code",
   "execution_count": 6,
   "id": "b8af0e6e-edad-4b3b-88ae-a9840968e022",
   "metadata": {
    "tags": []
   },
   "outputs": [
    {
     "data": {
      "text/plain": [
       "2"
      ]
     },
     "execution_count": 6,
     "metadata": {},
     "output_type": "execute_result"
    }
   ],
   "source": [
    "max(df['class1'])"
   ]
  }
 ],
 "metadata": {
  "kernelspec": {
   "display_name": "Python 3 (ipykernel)",
   "language": "python",
   "name": "python3"
  },
  "language_info": {
   "codemirror_mode": {
    "name": "ipython",
    "version": 3
   },
   "file_extension": ".py",
   "mimetype": "text/x-python",
   "name": "python",
   "nbconvert_exporter": "python",
   "pygments_lexer": "ipython3",
   "version": "3.11.7"
  }
 },
 "nbformat": 4,
 "nbformat_minor": 5
}
