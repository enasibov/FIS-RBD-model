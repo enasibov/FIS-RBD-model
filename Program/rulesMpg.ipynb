{
 "cells": [
  {
   "cell_type": "code",
   "execution_count": 1,
   "id": "941f3f2e-db0a-40fd-a3e2-1dd16ef1a339",
   "metadata": {},
   "outputs": [
    {
     "name": "stdout",
     "output_type": "stream",
     "text": [
      "(392, 3)\n",
      "X_train_norm 352\n"
     ]
    }
   ],
   "source": [
    "import warnings\n",
    "warnings.filterwarnings(\"ignore\")\n",
    "\n",
    "import pandas as pd\n",
    "mpg = pd.read_csv('Data/auto-mpg.csv', usecols = ['horsepower', 'weight', 'mpg'],sep=';')\n",
    "print(mpg.shape)\n",
    "#print(mpg.head())\n",
    "from sklearn.model_selection import train_test_split\n",
    "X_train, X_test, y_train, y_test = train_test_split(mpg[['horsepower', 'weight', 'mpg']], mpg[['mpg']], test_size=0.1, random_state=1)\n",
    "\n",
    "from sklearn import preprocessing\n",
    "X_train_norm = preprocessing.normalize(X_train, axis=0)\n",
    "X_test_norm = preprocessing.normalize(X_test, axis=0)\n",
    "X_train_norm=X_train\n",
    "print('X_train_norm',len(X_train_norm))\n",
    "\n",
    "from sklearn.cluster import KMeans\n",
    "kmeans1 = KMeans(n_clusters = 3, random_state = 0, n_init=3)\n",
    "kmeans1.fit(X_train[['horsepower']])\n",
    "labels1=kmeans1.predict(X_train[['horsepower']])\n",
    "\n",
    "kmeans2 = KMeans(n_clusters = 3, random_state = 0, n_init=3)\n",
    "kmeans2.fit(X_train[['weight']])\n",
    "labels2=kmeans2.predict(X_train[['weight']])\n",
    "\n",
    "dflabels1=pd.DataFrame(labels1, columns=['class1'])\n",
    "dflabels2=pd.DataFrame(labels2, columns=['class2'])"
   ]
  },
  {
   "cell_type": "code",
   "execution_count": 2,
   "id": "cc77921f-fae6-4b65-aca7-78c2864fd1fa",
   "metadata": {},
   "outputs": [
    {
     "data": {
      "text/plain": [
       "<Axes: ylabel='mpg'>"
      ]
     },
     "execution_count": 2,
     "metadata": {},
     "output_type": "execute_result"
    },
    {
     "data": {
      "image/png": "[encoded data removed]",
      "text/plain": [
       "<Figure size 640x480 with 1 Axes>"
      ]
     },
     "metadata": {},
     "output_type": "display_data"
    }
   ],
   "source": [
    "import seaborn as sns\n",
    "sns.boxplot(x = labels1, y = y_train['mpg'])"
   ]
  },
  {
   "cell_type": "code",
   "execution_count": 3,
   "id": "f20bcc89-0a00-402f-b5d4-cfc61cb9d5c3",
   "metadata": {},
   "outputs": [
    {
     "data": {
      "text/plain": [
       "<Axes: ylabel='mpg'>"
      ]
     },
     "execution_count": 3,
     "metadata": {},
     "output_type": "execute_result"
    },
    {
     "data": {
      "image/png": "[encoded data removed]",
      "text/plain": [
       "<Figure size 640x480 with 1 Axes>"
      ]
     },
     "metadata": {},
     "output_type": "display_data"
    }
   ],
   "source": [
    "sns.boxplot(x = labels2, y = y_train['mpg'])"
   ]
  },
  {
   "cell_type": "code",
   "execution_count": 4,
   "id": "de09ea68-9783-419e-81b9-2723dceab189",
   "metadata": {},
   "outputs": [
    {
     "data": {
      "text/html": [
       "<div>\n",
       "<style scoped>\n",
       "    .dataframe tbody tr th:only-of-type {\n",
       "        vertical-align: middle;\n",
       "    }\n",
       "\n",
       "    .dataframe tbody tr th {\n",
       "        vertical-align: top;\n",
       "    }\n",
       "\n",
       "    .dataframe thead th {\n",
       "        text-align: right;\n",
       "    }\n",
       "</style>\n",
       "<table border=\"1\" class=\"dataframe\">\n",
       "  <thead>\n",
       "    <tr style=\"text-align: right;\">\n",
       "      <th></th>\n",
       "      <th>index</th>\n",
       "      <th>horsepower</th>\n",
       "      <th>weight</th>\n",
       "      <th>mpg</th>\n",
       "      <th>index</th>\n",
       "      <th>class1</th>\n",
       "      <th>class2</th>\n",
       "    </tr>\n",
       "  </thead>\n",
       "  <tbody>\n",
       "    <tr>\n",
       "      <th>0</th>\n",
       "      <td>229</td>\n",
       "      <td>88</td>\n",
       "      <td>2605</td>\n",
       "      <td>28.0</td>\n",
       "      <td>0</td>\n",
       "      <td>0</td>\n",
       "      <td>2</td>\n",
       "    </tr>\n",
       "    <tr>\n",
       "      <th>1</th>\n",
       "      <td>62</td>\n",
       "      <td>142</td>\n",
       "      <td>4054</td>\n",
       "      <td>15.5</td>\n",
       "      <td>1</td>\n",
       "      <td>2</td>\n",
       "      <td>1</td>\n",
       "    </tr>\n",
       "    <tr>\n",
       "      <th>2</th>\n",
       "      <td>122</td>\n",
       "      <td>133</td>\n",
       "      <td>3410</td>\n",
       "      <td>16.2</td>\n",
       "      <td>2</td>\n",
       "      <td>2</td>\n",
       "      <td>0</td>\n",
       "    </tr>\n",
       "    <tr>\n",
       "      <th>3</th>\n",
       "      <td>125</td>\n",
       "      <td>90</td>\n",
       "      <td>3381</td>\n",
       "      <td>19.1</td>\n",
       "      <td>3</td>\n",
       "      <td>0</td>\n",
       "      <td>0</td>\n",
       "    </tr>\n",
       "    <tr>\n",
       "      <th>4</th>\n",
       "      <td>106</td>\n",
       "      <td>98</td>\n",
       "      <td>3525</td>\n",
       "      <td>18.5</td>\n",
       "      <td>4</td>\n",
       "      <td>0</td>\n",
       "      <td>0</td>\n",
       "    </tr>\n",
       "    <tr>\n",
       "      <th>...</th>\n",
       "      <td>...</td>\n",
       "      <td>...</td>\n",
       "      <td>...</td>\n",
       "      <td>...</td>\n",
       "      <td>...</td>\n",
       "      <td>...</td>\n",
       "      <td>...</td>\n",
       "    </tr>\n",
       "    <tr>\n",
       "      <th>347</th>\n",
       "      <td>203</td>\n",
       "      <td>88</td>\n",
       "      <td>2740</td>\n",
       "      <td>24.5</td>\n",
       "      <td>347</td>\n",
       "      <td>0</td>\n",
       "      <td>0</td>\n",
       "    </tr>\n",
       "    <tr>\n",
       "      <th>348</th>\n",
       "      <td>255</td>\n",
       "      <td>90</td>\n",
       "      <td>2430</td>\n",
       "      <td>24.0</td>\n",
       "      <td>348</td>\n",
       "      <td>0</td>\n",
       "      <td>2</td>\n",
       "    </tr>\n",
       "    <tr>\n",
       "      <th>349</th>\n",
       "      <td>72</td>\n",
       "      <td>150</td>\n",
       "      <td>3892</td>\n",
       "      <td>15.0</td>\n",
       "      <td>349</td>\n",
       "      <td>2</td>\n",
       "      <td>1</td>\n",
       "    </tr>\n",
       "    <tr>\n",
       "      <th>350</th>\n",
       "      <td>235</td>\n",
       "      <td>91</td>\n",
       "      <td>2582</td>\n",
       "      <td>20.0</td>\n",
       "      <td>350</td>\n",
       "      <td>0</td>\n",
       "      <td>2</td>\n",
       "    </tr>\n",
       "    <tr>\n",
       "      <th>351</th>\n",
       "      <td>37</td>\n",
       "      <td>130</td>\n",
       "      <td>4295</td>\n",
       "      <td>15.0</td>\n",
       "      <td>351</td>\n",
       "      <td>2</td>\n",
       "      <td>1</td>\n",
       "    </tr>\n",
       "  </tbody>\n",
       "</table>\n",
       "<p>352 rows × 7 columns</p>\n",
       "</div>"
      ],
      "text/plain": [
       "     index  horsepower  weight   mpg  index  class1  class2\n",
       "0      229          88    2605  28.0      0       0       2\n",
       "1       62         142    4054  15.5      1       2       1\n",
       "2      122         133    3410  16.2      2       2       0\n",
       "3      125          90    3381  19.1      3       0       0\n",
       "4      106          98    3525  18.5      4       0       0\n",
       "..     ...         ...     ...   ...    ...     ...     ...\n",
       "347    203          88    2740  24.5    347       0       0\n",
       "348    255          90    2430  24.0    348       0       2\n",
       "349     72         150    3892  15.0    349       2       1\n",
       "350    235          91    2582  20.0    350       0       2\n",
       "351     37         130    4295  15.0    351       2       1\n",
       "\n",
       "[352 rows x 7 columns]"
      ]
     },
     "execution_count": 4,
     "metadata": {},
     "output_type": "execute_result"
    }
   ],
   "source": [
    "#X_train=pd.concat([train_sp, X_train.reset_index(drop=True, inplace=True)], axis=1)\n",
    "df=pd.concat([X_train.reset_index(), dflabels1.reset_index(), dflabels2], axis=1)\n",
    "df\n",
    "#sns.scatterplot(data = df, x = 'class', y='Price')\n",
    "#df[['Price','class']]\n",
    "#sns.boxplot(x = df['class'], y = df['Price'])"
   ]
  },
  {
   "cell_type": "code",
   "execution_count": 5,
   "id": "a76d4f84-a4d2-4508-8a2d-fc015f635731",
   "metadata": {},
   "outputs": [
    {
     "name": "stdout",
     "output_type": "stream",
     "text": [
      "horsepower\n",
      "1,  84\n",
      "2,  198\n",
      "3,  143\n",
      "weight\n",
      "1,  3163\n",
      "2,  4236\n",
      "3,  2217\n"
     ]
    }
   ],
   "source": [
    "k=max(df['class1'])+1\n",
    "print('horsepower')\n",
    "for i in range(k):\n",
    "    dfi=df['horsepower'][df['class1']==i]\n",
    "    print(f'{i+1},  {dfi.mean():.0f}')\n",
    "print('weight')\n",
    "for i in range(k):\n",
    "    dfi=df['weight'][df['class2']==i]\n",
    "    print(f'{i+1},  {dfi.mean():.0f}')"
   ]
  },
  {
   "cell_type": "code",
   "execution_count": 6,
   "id": "b9647aac-7093-4734-8ca4-7a5645c00801",
   "metadata": {},
   "outputs": [
    {
     "name": "stdout",
     "output_type": "stream",
     "text": [
      "Classes ij\n",
      "11,  21\n",
      "12,  18\n",
      "13,  30\n",
      "21,  14\n",
      "22,  13\n",
      "23,  nan\n",
      "31,  18\n",
      "32,  15\n",
      "33,  27\n"
     ]
    }
   ],
   "source": [
    "#X_train\n",
    "#df['class']\n",
    "k=max(df['class1'])+1\n",
    "print('Classes ij')\n",
    "for i in range(k):\n",
    "    for j in range(k):\n",
    "        dfij=df['mpg'][(df['class1']==i) & (df['class2']==j)]\n",
    "        print(f'{i+1}{j+1},  {dfij.mean():.0f}')"
   ]
  },
  {
   "cell_type": "code",
   "execution_count": 7,
   "id": "b8af0e6e-edad-4b3b-88ae-a9840968e022",
   "metadata": {
    "tags": []
   },
   "outputs": [],
   "source": [
    "X_train_norm = preprocessing.normalize(X_train, axis=0)"
   ]
  }
 ],
 "metadata": {
  "kernelspec": {
   "display_name": "Python 3 (ipykernel)",
   "language": "python",
   "name": "python3"
  },
  "language_info": {
   "codemirror_mode": {
    "name": "ipython",
    "version": 3
   },
   "file_extension": ".py",
   "mimetype": "text/x-python",
   "name": "python",
   "nbconvert_exporter": "python",
   "pygments_lexer": "ipython3",
   "version": "3.11.7"
  }
 },
 "nbformat": 4,
 "nbformat_minor": 5
}
