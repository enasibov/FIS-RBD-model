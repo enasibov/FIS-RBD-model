{
 "cells": [
  {
   "cell_type": "code",
   "execution_count": 1,
   "id": "6ba40f99-8220-4a99-afc4-4e807ada095c",
   "metadata": {},
   "outputs": [
    {
     "data": {
      "image/png": "[encoded data removed]",
      "text/plain": [
       "<Figure size 640x480 with 1 Axes>"
      ]
     },
     "metadata": {},
     "output_type": "display_data"
    }
   ],
   "source": [
    "import fuzlab as fl\n",
    "import matplotlib.pyplot as plt\n",
    "\n",
    "x = fl.arange(0, 0.1, 10)\n",
    "y = fl.gaussmf(x, [2, 5])\n",
    "\n",
    "plt.plot(x, y)\n",
    "plt.xlabel('gaussmf, P=[2, 5]')\n",
    "plt.ylabel('Membership')\n",
    "plt.ylim([-0.05, 1.05])\n",
    "plt.show()\n"
   ]
  },
  {
   "cell_type": "code",
   "execution_count": 2,
   "id": "779f6188-6e12-4fcc-870c-198093b1a023",
   "metadata": {
    "tags": []
   },
   "outputs": [
    {
     "name": "stdout",
     "output_type": "stream",
     "text": [
      "(59808.42105263148, array([0.6, 0.4, 0. , 0.4, 0.4, 0. , 0. , 0. , 0. ]))\n"
     ]
    }
   ],
   "source": [
    "import fuzlab as fl\n",
    "import numpy as np\n",
    "\n",
    "# Construct the Mamdani type fuzzy inference system\n",
    "\n",
    "fis = fl.mamfis()\n",
    "\n",
    "# defuzzification methods: 'som', 'mom','lom','centroid','bisector','wtaver'='centroid','wabl'\n",
    "fis.DefuzzificationMethod = 'centroid' \n",
    "\n",
    "# Define input for \"Year\"\n",
    "\n",
    "fis.addInput([0, 50], Name='Year')\n",
    "fis.addMF('Year','trapmf', [0,0,5,10], Name='new')\n",
    "fis.addMF('Year','trimf', [5,10,20], Name='normal')\n",
    "fis.addMF('Year','trapmf', [10,20,50,50], Name='old')\n",
    "\n",
    "\n",
    "# Define input for \"Km\"\n",
    "\n",
    "fis.addInput([0, 1000000], Name='Km')\n",
    "fis.addMF('Km','trapmf',[    0,0, 50000, 150000],Name='low')\n",
    "fis.addMF('Km','trimf',[50000, 150000, 250000],Name='normal')\n",
    "fis.addMF('Km','trapmf',[150000, 250000, 1000000,1000000],Name='high')\n",
    "\n",
    "# Define output for \"Price\"\n",
    "\n",
    "fis.addOutput([0, 100000], Name='Price')\n",
    "fis.addMF('Price','trapmf',[0, 0,5000, 10000],Name='very_cheap')\n",
    "fis.addMF('Price','trimf',[5000, 10000, 20000],Name='cheap')\n",
    "fis.addMF('Price','trimf',[10000, 20000, 30000],Name='normal')\n",
    "fis.addMF('Price','trimf',[20000, 30000, 50000],Name='expensive')\n",
    "fis.addMF('Price','trapmf',[30000, 50000, 100000,100000],Name='very_expensive')\n",
    "\n",
    "\n",
    "# Define the following fuzzy rules:\n",
    "\n",
    "# 1 If 'Year' is 'new' and 'Km' is 'low', then 'Price' is 'very_expensive'. Weight = 1, Connection = 1 (AND).\n",
    "# 2 If 'Year' is 'new' and 'Km' is 'normal', then 'Price' is 'expensive'. Weight = 1, Connection = 1 (AND).\n",
    "# 3 If 'Year' is 'new' and 'Km' is 'high', then 'Price' is 'normal'. Weight = 1, Connection = 1 (AND).\n",
    "# 4 If 'Year' is 'normal' and 'Km' is 'low', then 'Price' is 'normal'. Weight = 1, Connection = 1 (AND).\n",
    "# 5 If 'Year' is 'normal' and 'Km' is 'normal', then 'Price' is 'normal'. Weight = 1, Connection = 1 (AND).\n",
    "# 6 If 'Year' is 'normal' and 'Km' is 'high', then 'Price' is 'cheap'. Weight = 1, Connection = 1 (AND).\n",
    "# 7 If 'Year' is 'old' and 'Km' is 'low', then 'Price' is 'cheap'. Weight = 1, Connection = 1 (AND).\n",
    "# 8 If 'Year' is 'old' and 'Km' is 'normal', then 'Price' is 'cheap'. Weight = 1, Connection = 1 (AND).\n",
    "# 9 If 'Year' is 'old' and 'Km' is 'high', then 'Price' is 'very_cheap'. Weight = 1, Connection = 1 (AND).\n",
    "\n",
    "ruleList = [[1, 1, 5, 1, 1], # Rule 1\n",
    "            [1, 2, 4, 1, 1], # Rule 2\n",
    "            [1, 3, 3, 1, 1], # Rule 3\n",
    "            [2, 1, 3, 1, 1], # Rule 4\n",
    "            [2, 2, 3, 1, 1], # Rule 5     \n",
    "            [2, 3, 2, 1, 1], # Rule 6\n",
    "            [3, 1, 2, 1, 1], # Rule 7\n",
    "            [3, 2, 2, 1, 1], # Rule 8\n",
    "            [3, 3, 1, 1, 1]] # Rule 9\n",
    "\n",
    "fis.addRule(ruleList)\n",
    "outMam = fl.evalfis(fis,[7, 90000],rule_firing = True)\n",
    "print(outMam)\n"
   ]
  },
  {
   "cell_type": "code",
   "execution_count": null,
   "id": "ca99df62-228f-4b83-a8ad-ab7709ba5bb8",
   "metadata": {},
   "outputs": [],
   "source": []
  },
  {
   "cell_type": "code",
   "execution_count": 3,
   "id": "afa12f50-88df-4317-8d7d-c932cff0ef63",
   "metadata": {
    "tags": []
   },
   "outputs": [
    {
     "name": "stdout",
     "output_type": "stream",
     "text": [
      "(48490.432098765436, array([0.6, 0.4, 0. , 0.4, 0.4, 0. , 0. , 0. , 0. ]))\n",
      "Optimizm =  0.7\n",
      "Degrees =  21\n",
      "Importances =  [1. 1. 1. 1. 1. 1. 1. 1. 1. 1. 1. 1. 1. 1. 1. 1. 1. 1. 1. 1. 1.]\n"
     ]
    }
   ],
   "source": [
    "import fuzlab as fl\n",
    "import numpy as np\n",
    "\n",
    "# Construct the Mamdani FIS-RBD type fuzzy inference system\n",
    "\n",
    "fisRBD = fl.mamfisRBD()\n",
    "\n",
    "# defuzzification methods: 'som', 'mom','lom','centroid','bisector','wtaver'='centroid','wabl'\n",
    "fisRBD.DefuzzificationMethod = 'wabl' \n",
    "fisRBD.WablOptimizm          = 0.7 \n",
    "fisRBD.WablDegrees           = 21\n",
    "fisRBD.WablImportances       = np.ones(fisRBD.WablDegrees)\n",
    "#fisRBD.WablImportances       = [2*i for i in range(fisRBD.WablDegrees)] \n",
    "\n",
    "# Define input for \"Year\"\n",
    "\n",
    "fisRBD.addInput([0, 50], Name='Year')\n",
    "fisRBD.addMF('Year','trapmf', [0,0,5,10], Name='new')\n",
    "fisRBD.addMF('Year','trimf', [5,10,20], Name='normal')\n",
    "fisRBD.addMF('Year','trapmf', [10,20,50,50], Name='old')\n",
    "\n",
    "\n",
    "# Define input for \"Km\"\n",
    "\n",
    "fisRBD.addInput([0, 1000000], Name='Km')\n",
    "fisRBD.addMF('Km','trapmf',[    0,0, 50000, 150000],Name='low')\n",
    "fisRBD.addMF('Km','trimf',[50000, 150000, 250000],Name='normal')\n",
    "fisRBD.addMF('Km','trapmf',[150000, 250000, 1000000,1000000],Name='high')\n",
    "\n",
    "# Define output for \"Price\"\n",
    "\n",
    "fisRBD.addOutput([0, 100000], Name='Price')\n",
    "fisRBD.addMF('Price','trapmf',[0, 0,5000, 10000],Name='very_cheap')\n",
    "fisRBD.addMF('Price','trimf',[5000, 10000, 20000],Name='cheap')\n",
    "fisRBD.addMF('Price','trimf',[10000, 20000, 30000],Name='normal')\n",
    "fisRBD.addMF('Price','trimf',[20000, 30000, 50000],Name='expensive')\n",
    "fisRBD.addMF('Price','trapmf',[30000, 50000, 100000,100000],Name='very_expensive')\n",
    "\n",
    "\n",
    "# Define the following fuzzy rules:\n",
    "\n",
    "# 1 If 'Year' is 'new' and 'Km' is 'low', then 'Price' is 'very_expensive'. Weight = 1, Connection = 1 (AND).\n",
    "# 2 If 'Year' is 'new' and 'Km' is 'normal', then 'Price' is 'expensive'. Weight = 1, Connection = 1 (AND).\n",
    "# 3 If 'Year' is 'new' and 'Km' is 'high', then 'Price' is 'normal'. Weight = 1, Connection = 1 (AND).\n",
    "# 4 If 'Year' is 'normal' and 'Km' is 'low', then 'Price' is 'normal'. Weight = 1, Connection = 1 (AND).\n",
    "# 5 If 'Year' is 'normal' and 'Km' is 'normal', then 'Price' is 'normal'. Weight = 1, Connection = 1 (AND).\n",
    "# 6 If 'Year' is 'normal' and 'Km' is 'high', then 'Price' is 'cheap'. Weight = 1, Connection = 1 (AND).\n",
    "# 7 If 'Year' is 'old' and 'Km' is 'low', then 'Price' is 'cheap'. Weight = 1, Connection = 1 (AND).\n",
    "# 8 If 'Year' is 'old' and 'Km' is 'normal', then 'Price' is 'cheap'. Weight = 1, Connection = 1 (AND).\n",
    "# 9 If 'Year' is 'old' and 'Km' is 'high', then 'Price' is 'very_cheap'. Weight = 1, Connection = 1 (AND).\n",
    "\n",
    "ruleList = [[1, 1, 5, 1, 1], # Rule 1\n",
    "            [1, 2, 4, 1, 1], # Rule 2\n",
    "            [1, 3, 3, 1, 1], # Rule 3\n",
    "            [2, 1, 3, 1, 1], # Rule 4\n",
    "            [2, 2, 3, 1, 1], # Rule 5     \n",
    "            [2, 3, 2, 1, 1], # Rule 6\n",
    "            [3, 1, 2, 1, 1], # Rule 7\n",
    "            [3, 2, 2, 1, 1], # Rule 8\n",
    "            [3, 3, 1, 1, 1]] # Rule 9\n",
    "\n",
    "fisRBD.addRule(ruleList)\n",
    "outRBD = fl.evalfis(fisRBD,[7, 90000],rule_firing = True)\n",
    "print(outRBD)\n",
    "print(\"Optimizm = \",fisRBD.WablOptimizm)\n",
    "print(\"Degrees = \",fisRBD.WablDegrees)\n",
    "print(\"Importances = \",fisRBD.WablImportances)\n"
   ]
  },
  {
   "cell_type": "code",
   "execution_count": null,
   "id": "7973b7e0-eb46-4c62-9bfe-e878a580fa90",
   "metadata": {},
   "outputs": [],
   "source": []
  },
  {
   "cell_type": "code",
   "execution_count": 4,
   "id": "0570fddd-c6f9-445f-9ee3-3e973cf61e7e",
   "metadata": {
    "tags": []
   },
   "outputs": [
    {
     "name": "stdout",
     "output_type": "stream",
     "text": [
      "(44800.0, array([0.36, 0.24, 0.  , 0.24, 0.16, 0.  , 0.  , 0.  , 0.  ]))\n"
     ]
    }
   ],
   "source": [
    "import fuzlab as fl\n",
    "import numpy as np\n",
    "\n",
    "# Construct the Sugeno type fuzzy inference system\n",
    "\n",
    "fisSug = fl.sugfis()\n",
    "\n",
    "\n",
    "# Define input for \"Year\"\n",
    "\n",
    "fisSug.addInput([0, 50], Name='Year')\n",
    "fisSug.addMF('Year','trapmf', [0,0,5,10], Name='new')\n",
    "fisSug.addMF('Year','trimf', [5,10,20], Name='normal')\n",
    "fisSug.addMF('Year','trapmf', [10,20,50,50], Name='old')\n",
    "\n",
    "\n",
    "# Define input for \"Km\"\n",
    "\n",
    "fisSug.addInput([0, 1000000], Name='Km')\n",
    "fisSug.addMF('Km','trapmf',[    0,0, 50000, 150000],Name='low')\n",
    "fisSug.addMF('Km','trimf',[50000, 150000, 250000],Name='normal')\n",
    "fisSug.addMF('Km','trapmf',[150000, 250000, 1000000,1000000],Name='high')\n",
    "\n",
    "# Define output for \"Price\"\n",
    "\n",
    "fisSug.addOutput([0, 100000], Name='Price')\n",
    "fisSug.addMF('Price','constant',5000,Name='very_cheap')\n",
    "fisSug.addMF('Price','constant',10000,Name='cheap')\n",
    "fisSug.addMF('Price','constant',25000,Name='normal')\n",
    "fisSug.addMF('Price','constant',40000,Name='expensive')\n",
    "fisSug.addMF('Price','constant',70000,Name='very_expensive')\n",
    "\n",
    "\n",
    "# Define the following fuzzy rules:\n",
    "\n",
    "# 1 If 'Year' is 'new' and 'Km' is 'low', then 'Price' is 'very_expensive'. Weight = 1, Connection = 1 (AND).\n",
    "# 2 If 'Year' is 'new' and 'Km' is 'normal', then 'Price' is 'expensive'. Weight = 1, Connection = 1 (AND).\n",
    "# 3 If 'Year' is 'new' and 'Km' is 'high', then 'Price' is 'normal'. Weight = 1, Connection = 1 (AND).\n",
    "# 4 If 'Year' is 'normal' and 'Km' is 'low', then 'Price' is 'normal'. Weight = 1, Connection = 1 (AND).\n",
    "# 5 If 'Year' is 'normal' and 'Km' is 'normal', then 'Price' is 'normal'. Weight = 1, Connection = 1 (AND).\n",
    "# 6 If 'Year' is 'normal' and 'Km' is 'high', then 'Price' is 'cheap'. Weight = 1, Connection = 1 (AND).\n",
    "# 7 If 'Year' is 'old' and 'Km' is 'low', then 'Price' is 'cheap'. Weight = 1, Connection = 1 (AND).\n",
    "# 8 If 'Year' is 'old' and 'Km' is 'normal', then 'Price' is 'cheap'. Weight = 1, Connection = 1 (AND).\n",
    "# 9 If 'Year' is 'old' and 'Km' is 'high', then 'Price' is 'very_cheap'. Weight = 1, Connection = 1 (AND).\n",
    "\n",
    "ruleList = [[1, 1, 5, 1, 1], # Rule 1\n",
    "            [1, 2, 4, 1, 1], # Rule 2\n",
    "            [1, 3, 3, 1, 1], # Rule 3\n",
    "            [2, 1, 3, 1, 1], # Rule 4\n",
    "            [2, 2, 3, 1, 1], # Rule 5     \n",
    "            [2, 3, 2, 1, 1], # Rule 6\n",
    "            [3, 1, 2, 1, 1], # Rule 7\n",
    "            [3, 2, 2, 1, 1], # Rule 8\n",
    "            [3, 3, 1, 1, 1]] # Rule 9\n",
    "\n",
    "fisSug.addRule(ruleList)\n",
    "outSug = fl.evalfis(fisSug,[7, 90000],rule_firing = True)\n",
    "print(outSug)\n"
   ]
  }
 ],
 "metadata": {
  "kernelspec": {
   "display_name": "Python 3 (ipykernel)",
   "language": "python",
   "name": "python3"
  },
  "language_info": {
   "codemirror_mode": {
    "name": "ipython",
    "version": 3
   },
   "file_extension": ".py",
   "mimetype": "text/x-python",
   "name": "python",
   "nbconvert_exporter": "python",
   "pygments_lexer": "ipython3",
   "version": "3.11.5"
  }
 },
 "nbformat": 4,
 "nbformat_minor": 5
}
